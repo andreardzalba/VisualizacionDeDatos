{
 "cells": [
  {
   "cell_type": "code",
   "execution_count": 18,
   "metadata": {},
   "outputs": [],
   "source": [
    "import pandas as pd\n",
    "df_train=pd.read_csv(\"world_cup_comparisons.csv\", converters={'POLYLINE': lambda x: json.loads(x)[-1:]})"
   ]
  },
  {
   "cell_type": "code",
   "execution_count": 35,
   "metadata": {},
   "outputs": [
    {
     "data": {
      "image/png": "[encoded data removed]",
      "text/plain": [
       "<Figure size 432x288 with 1 Axes>"
      ]
     },
     "metadata": {
      "needs_background": "light"
     },
     "output_type": "display_data"
    },
    {
     "name": "stdout",
     "output_type": "stream",
     "text": [
      "goals per season per team\n"
     ]
    }
   ],
   "source": [
    "temp1 = df_train.groupby(['season','team']).goals_z.count()\n",
    "import matplotlib.pyplot as plt\n",
    "import numpy as np\n",
    "\n",
    "data = temp1.values\n",
    "test = data.reshape(1,352)\n",
    "rows = df_train['team'].unique()\n",
    "columns = df_train['season'].unique()\n",
    "plt.pcolor(test,cmap=plt.cm.Reds)\n",
    "plt.show()\n",
    "plt.close()\n",
    "print(\"goals per season per team\")"
   ]
  },
  {
   "cell_type": "code",
   "execution_count": 34,
   "metadata": {},
   "outputs": [
    {
     "data": {
      "image/png": "[encoded data removed]",
      "text/plain": [
       "<Figure size 432x288 with 1 Axes>"
      ]
     },
     "metadata": {
      "needs_background": "light"
     },
     "output_type": "display_data"
    },
    {
     "name": "stdout",
     "output_type": "stream",
     "text": [
      "passes per season\n"
     ]
    }
   ],
   "source": [
    "temp1 = df_train.groupby(['season','passes_z']).passes_z.count()\n",
    "import matplotlib.pyplot as plt\n",
    "import numpy as np\n",
    "\n",
    "data = temp1.values\n",
    "test = data.reshape(1,2947)\n",
    "rows = df_train['team'].unique()\n",
    "columns = df_train['season'].unique()\n",
    "plt.pcolor(test,cmap=plt.cm.Reds)\n",
    "plt.show()\n",
    "plt.close()\n",
    "print(\"passes per season\")"
   ]
  },
  {
   "cell_type": "code",
   "execution_count": 40,
   "metadata": {},
   "outputs": [
    {
     "data": {
      "image/png": "[encoded data removed]",
      "text/plain": [
       "<Figure size 432x288 with 1 Axes>"
      ]
     },
     "metadata": {
      "needs_background": "light"
     },
     "output_type": "display_data"
    },
    {
     "name": "stdout",
     "output_type": "stream",
     "text": [
      "crosses per season\n"
     ]
    }
   ],
   "source": [
    "temp1 = df_train.groupby(['season','crosses_z']).crosses_z.count()\n",
    "import matplotlib.pyplot as plt\n",
    "import numpy as np\n",
    "\n",
    "data = temp1.values\n",
    "test = data.reshape(1,576)\n",
    "rows = df_train['team'].unique()\n",
    "columns = df_train['season'].unique()\n",
    "plt.pcolor(test,cmap=plt.cm.Reds)\n",
    "plt.show()\n",
    "plt.close()\n",
    "print(\"crosses per season\")"
   ]
  },
  {
   "cell_type": "code",
   "execution_count": null,
   "metadata": {},
   "outputs": [],
   "source": []
  }
 ],
 "metadata": {
  "kernelspec": {
   "display_name": "Python 3",
   "language": "python",
   "name": "python3"
  },
  "language_info": {
   "codemirror_mode": {
    "name": "ipython",
    "version": 3
   },
   "file_extension": ".py",
   "mimetype": "text/x-python",
   "name": "python",
   "nbconvert_exporter": "python",
   "pygments_lexer": "ipython3",
   "version": "3.7.1"
  }
 },
 "nbformat": 4,
 "nbformat_minor": 2
}
